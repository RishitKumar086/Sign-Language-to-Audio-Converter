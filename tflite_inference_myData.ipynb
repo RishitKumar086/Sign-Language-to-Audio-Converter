{
 "cells": [
  {
   "cell_type": "code",
   "execution_count": 7,
   "metadata": {},
   "outputs": [],
   "source": [
    "import pandas as pd\n",
    "import numpy as np\n",
    "import tensorflow as tf\n",
    "import matplotlib.pyplot as plt\n",
    "\n",
    "ROWS_PER_FRAME = 543  # number of landmarks per frame\n",
    "\n",
    "def load_relevant_data_subset(pq_path):\n",
    "    data_columns = ['x', 'y', 'z']\n",
    "    data = pd.read_parquet(pq_path, columns=data_columns)\n",
    "    n_frames = int(len(data) / ROWS_PER_FRAME)\n",
    "    data = data.values.reshape(n_frames, ROWS_PER_FRAME, len(data_columns))\n",
    "    return data.astype(np.float32)\n"
   ]
  },
  {
   "cell_type": "code",
   "execution_count": 8,
   "metadata": {},
   "outputs": [],
   "source": [
    "def get_prediction(prediction_fn,pq_file):\n",
    "    interpreter = tf.lite.Interpreter(\"./model.tflite\")\n",
    "    found_signatures = list(interpreter.get_signature_list().keys())\n",
    "    prediction_fn = interpreter.get_signature_runner(\"serving_default\")\n",
    "    train=pd.read_csv('./input/asl-signs/train.csv')\n",
    "    train['sign_ord'] = train['sign'].astype('category').cat.codes\n",
    "    # Dictionaries to translate sign <-> ordinal encoded sign\n",
    "    SIGN2ORD = train[['sign', 'sign_ord']].set_index('sign').squeeze().to_dict()\n",
    "    ORD2SIGN = train[['sign_ord', 'sign']].set_index('sign_ord').squeeze().to_dict()\n",
    "    xyz_np=load_relevant_data_subset(pq_file)\n",
    "    prediction=prediction_fn(inputs=xyz_np)\n",
    "    pred=prediction['outputs'].argmax()\n",
    "    sign=ORD2SIGN[pred]\n",
    "    pred_conf=prediction['outputs'][pred]\n",
    "    print(f'Predicted Sign {sign} [{pred}] with confidence {pred_conf:0.4}')"
   ]
  },
  {
   "cell_type": "code",
   "execution_count": 10,
   "metadata": {},
   "outputs": [
    {
     "name": "stdout",
     "output_type": "stream",
     "text": [
      "Predicted Sign bird [23] with confidence 0.3828\n"
     ]
    }
   ],
   "source": [
    "get_prediction(prediction_fn,'output.parquet')"
   ]
  }
 ],
 "metadata": {
  "kernelspec": {
   "display_name": ".venv",
   "language": "python",
   "name": "python3"
  },
  "language_info": {
   "codemirror_mode": {
    "name": "ipython",
    "version": 3
   },
   "file_extension": ".py",
   "mimetype": "text/x-python",
   "name": "python",
   "nbconvert_exporter": "python",
   "pygments_lexer": "ipython3",
   "version": "3.12.2"
  }
 },
 "nbformat": 4,
 "nbformat_minor": 2
}
